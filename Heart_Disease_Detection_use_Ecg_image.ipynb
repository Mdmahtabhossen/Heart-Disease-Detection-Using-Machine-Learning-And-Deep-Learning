{
 "cells": [
  {
   "cell_type": "code",
   "execution_count": 9,
   "id": "145da1e6",
   "metadata": {},
   "outputs": [],
   "source": [
    "import numpy as np\n",
    "import pandas as pd\n",
    "from pathlib import Path\n",
    "import os.path\n",
    "import matplotlib.pyplot as plt\n",
    "import tensorflow as tf\n",
    "import cv2"
   ]
  },
  {
   "cell_type": "markdown",
   "id": "18989734",
   "metadata": {},
   "source": [
    "# Train set"
   ]
  },
  {
   "cell_type": "code",
   "execution_count": 15,
   "id": "2d559652",
   "metadata": {},
   "outputs": [
    {
     "name": "stdout",
     "output_type": "stream",
     "text": [
      "Wall time: 1.8 s\n"
     ]
    },
    {
     "data": {
      "text/html": [
       "<div>\n",
       "<style scoped>\n",
       "    .dataframe tbody tr th:only-of-type {\n",
       "        vertical-align: middle;\n",
       "    }\n",
       "\n",
       "    .dataframe tbody tr th {\n",
       "        vertical-align: top;\n",
       "    }\n",
       "\n",
       "    .dataframe thead th {\n",
       "        text-align: right;\n",
       "    }\n",
       "</style>\n",
       "<table border=\"1\" class=\"dataframe\">\n",
       "  <thead>\n",
       "    <tr style=\"text-align: right;\">\n",
       "      <th></th>\n",
       "      <th>Filepath</th>\n",
       "      <th>Label</th>\n",
       "    </tr>\n",
       "  </thead>\n",
       "  <tbody>\n",
       "    <tr>\n",
       "      <th>0</th>\n",
       "      <td>C:\\Users\\ASUS\\OneDrive\\Desktop\\Thisis\\ECG_Imag...</td>\n",
       "      <td>F</td>\n",
       "    </tr>\n",
       "    <tr>\n",
       "      <th>1</th>\n",
       "      <td>C:\\Users\\ASUS\\OneDrive\\Desktop\\Thisis\\ECG_Imag...</td>\n",
       "      <td>F</td>\n",
       "    </tr>\n",
       "    <tr>\n",
       "      <th>2</th>\n",
       "      <td>C:\\Users\\ASUS\\OneDrive\\Desktop\\Thisis\\ECG_Imag...</td>\n",
       "      <td>F</td>\n",
       "    </tr>\n",
       "    <tr>\n",
       "      <th>3</th>\n",
       "      <td>C:\\Users\\ASUS\\OneDrive\\Desktop\\Thisis\\ECG_Imag...</td>\n",
       "      <td>F</td>\n",
       "    </tr>\n",
       "    <tr>\n",
       "      <th>4</th>\n",
       "      <td>C:\\Users\\ASUS\\OneDrive\\Desktop\\Thisis\\ECG_Imag...</td>\n",
       "      <td>F</td>\n",
       "    </tr>\n",
       "    <tr>\n",
       "      <th>...</th>\n",
       "      <td>...</td>\n",
       "      <td>...</td>\n",
       "    </tr>\n",
       "    <tr>\n",
       "      <th>99194</th>\n",
       "      <td>C:\\Users\\ASUS\\OneDrive\\Desktop\\Thisis\\ECG_Imag...</td>\n",
       "      <td>V</td>\n",
       "    </tr>\n",
       "    <tr>\n",
       "      <th>99195</th>\n",
       "      <td>C:\\Users\\ASUS\\OneDrive\\Desktop\\Thisis\\ECG_Imag...</td>\n",
       "      <td>V</td>\n",
       "    </tr>\n",
       "    <tr>\n",
       "      <th>99196</th>\n",
       "      <td>C:\\Users\\ASUS\\OneDrive\\Desktop\\Thisis\\ECG_Imag...</td>\n",
       "      <td>V</td>\n",
       "    </tr>\n",
       "    <tr>\n",
       "      <th>99197</th>\n",
       "      <td>C:\\Users\\ASUS\\OneDrive\\Desktop\\Thisis\\ECG_Imag...</td>\n",
       "      <td>V</td>\n",
       "    </tr>\n",
       "    <tr>\n",
       "      <th>99198</th>\n",
       "      <td>C:\\Users\\ASUS\\OneDrive\\Desktop\\Thisis\\ECG_Imag...</td>\n",
       "      <td>V</td>\n",
       "    </tr>\n",
       "  </tbody>\n",
       "</table>\n",
       "<p>99199 rows × 2 columns</p>\n",
       "</div>"
      ],
      "text/plain": [
       "                                                Filepath Label\n",
       "0      C:\\Users\\ASUS\\OneDrive\\Desktop\\Thisis\\ECG_Imag...     F\n",
       "1      C:\\Users\\ASUS\\OneDrive\\Desktop\\Thisis\\ECG_Imag...     F\n",
       "2      C:\\Users\\ASUS\\OneDrive\\Desktop\\Thisis\\ECG_Imag...     F\n",
       "3      C:\\Users\\ASUS\\OneDrive\\Desktop\\Thisis\\ECG_Imag...     F\n",
       "4      C:\\Users\\ASUS\\OneDrive\\Desktop\\Thisis\\ECG_Imag...     F\n",
       "...                                                  ...   ...\n",
       "99194  C:\\Users\\ASUS\\OneDrive\\Desktop\\Thisis\\ECG_Imag...     V\n",
       "99195  C:\\Users\\ASUS\\OneDrive\\Desktop\\Thisis\\ECG_Imag...     V\n",
       "99196  C:\\Users\\ASUS\\OneDrive\\Desktop\\Thisis\\ECG_Imag...     V\n",
       "99197  C:\\Users\\ASUS\\OneDrive\\Desktop\\Thisis\\ECG_Imag...     V\n",
       "99198  C:\\Users\\ASUS\\OneDrive\\Desktop\\Thisis\\ECG_Imag...     V\n",
       "\n",
       "[99199 rows x 2 columns]"
      ]
     },
     "execution_count": 15,
     "metadata": {},
     "output_type": "execute_result"
    }
   ],
   "source": [
    "%%time\n",
    "dir = Path('C:\\\\Users\\\\ASUS\\\\OneDrive\\\\Desktop\\\\Thisis\\\\ECG_Image_data\\\\train')\n",
    "\n",
    "filepaths = list(dir.glob(r'**/*.png'))\n",
    "labels = list(map(lambda x: os.path.split(os.path.split(x)[0])[1], filepaths))\n",
    "\n",
    "\n",
    "filepaths = pd.Series(filepaths, name='Filepath').astype(str)\n",
    "labels = pd.Series(labels, name='Label')\n",
    "\n",
    "dataframe = pd.concat([filepaths , labels] , axis=1)\n",
    "dataframe"
   ]
  },
  {
   "cell_type": "code",
   "execution_count": 16,
   "id": "c985957f",
   "metadata": {},
   "outputs": [
    {
     "data": {
      "text/plain": [
       "N    75709\n",
       "M     8405\n",
       "Q     6431\n",
       "V     5789\n",
       "S     2223\n",
       "F      642\n",
       "Name: Label, dtype: int64"
      ]
     },
     "execution_count": 16,
     "metadata": {},
     "output_type": "execute_result"
    }
   ],
   "source": [
    "dataframe['Label'].value_counts()"
   ]
  },
  {
   "cell_type": "code",
   "execution_count": 17,
   "id": "462e4416",
   "metadata": {},
   "outputs": [
    {
     "data": {
      "text/plain": [
       "N    640\n",
       "Q    640\n",
       "S    640\n",
       "F    640\n",
       "M    640\n",
       "V    640\n",
       "Name: Label, dtype: int64"
      ]
     },
     "execution_count": 17,
     "metadata": {},
     "output_type": "execute_result"
    }
   ],
   "source": [
    "samples = []\n",
    "for category in ['N','M','Q','V','S','F']:\n",
    "    category_slice = dataframe.query(\"Label == @category\")\n",
    "    samples.append(category_slice.sample(640, random_state=1))\n",
    "\n",
    "dataframe_train = pd.concat(samples, axis=0).sample(frac=1.0, random_state=1).reset_index(drop=True)\n",
    "dataframe_train['Label'].value_counts()"
   ]
  },
  {
   "cell_type": "markdown",
   "id": "24033cee",
   "metadata": {},
   "source": [
    "# Test set"
   ]
  },
  {
   "cell_type": "code",
   "execution_count": 18,
   "id": "877b6953",
   "metadata": {},
   "outputs": [
    {
     "name": "stdout",
     "output_type": "stream",
     "text": [
      "Wall time: 375 ms\n"
     ]
    },
    {
     "data": {
      "text/html": [
       "<div>\n",
       "<style scoped>\n",
       "    .dataframe tbody tr th:only-of-type {\n",
       "        vertical-align: middle;\n",
       "    }\n",
       "\n",
       "    .dataframe tbody tr th {\n",
       "        vertical-align: top;\n",
       "    }\n",
       "\n",
       "    .dataframe thead th {\n",
       "        text-align: right;\n",
       "    }\n",
       "</style>\n",
       "<table border=\"1\" class=\"dataframe\">\n",
       "  <thead>\n",
       "    <tr style=\"text-align: right;\">\n",
       "      <th></th>\n",
       "      <th>Filepath</th>\n",
       "      <th>Label</th>\n",
       "    </tr>\n",
       "  </thead>\n",
       "  <tbody>\n",
       "    <tr>\n",
       "      <th>0</th>\n",
       "      <td>C:\\Users\\ASUS\\OneDrive\\Desktop\\Thisis\\ECG_Imag...</td>\n",
       "      <td>F</td>\n",
       "    </tr>\n",
       "    <tr>\n",
       "      <th>1</th>\n",
       "      <td>C:\\Users\\ASUS\\OneDrive\\Desktop\\Thisis\\ECG_Imag...</td>\n",
       "      <td>F</td>\n",
       "    </tr>\n",
       "    <tr>\n",
       "      <th>2</th>\n",
       "      <td>C:\\Users\\ASUS\\OneDrive\\Desktop\\Thisis\\ECG_Imag...</td>\n",
       "      <td>F</td>\n",
       "    </tr>\n",
       "    <tr>\n",
       "      <th>3</th>\n",
       "      <td>C:\\Users\\ASUS\\OneDrive\\Desktop\\Thisis\\ECG_Imag...</td>\n",
       "      <td>F</td>\n",
       "    </tr>\n",
       "    <tr>\n",
       "      <th>4</th>\n",
       "      <td>C:\\Users\\ASUS\\OneDrive\\Desktop\\Thisis\\ECG_Imag...</td>\n",
       "      <td>F</td>\n",
       "    </tr>\n",
       "    <tr>\n",
       "      <th>...</th>\n",
       "      <td>...</td>\n",
       "      <td>...</td>\n",
       "    </tr>\n",
       "    <tr>\n",
       "      <th>24794</th>\n",
       "      <td>C:\\Users\\ASUS\\OneDrive\\Desktop\\Thisis\\ECG_Imag...</td>\n",
       "      <td>V</td>\n",
       "    </tr>\n",
       "    <tr>\n",
       "      <th>24795</th>\n",
       "      <td>C:\\Users\\ASUS\\OneDrive\\Desktop\\Thisis\\ECG_Imag...</td>\n",
       "      <td>V</td>\n",
       "    </tr>\n",
       "    <tr>\n",
       "      <th>24796</th>\n",
       "      <td>C:\\Users\\ASUS\\OneDrive\\Desktop\\Thisis\\ECG_Imag...</td>\n",
       "      <td>V</td>\n",
       "    </tr>\n",
       "    <tr>\n",
       "      <th>24797</th>\n",
       "      <td>C:\\Users\\ASUS\\OneDrive\\Desktop\\Thisis\\ECG_Imag...</td>\n",
       "      <td>V</td>\n",
       "    </tr>\n",
       "    <tr>\n",
       "      <th>24798</th>\n",
       "      <td>C:\\Users\\ASUS\\OneDrive\\Desktop\\Thisis\\ECG_Imag...</td>\n",
       "      <td>V</td>\n",
       "    </tr>\n",
       "  </tbody>\n",
       "</table>\n",
       "<p>24799 rows × 2 columns</p>\n",
       "</div>"
      ],
      "text/plain": [
       "                                                Filepath Label\n",
       "0      C:\\Users\\ASUS\\OneDrive\\Desktop\\Thisis\\ECG_Imag...     F\n",
       "1      C:\\Users\\ASUS\\OneDrive\\Desktop\\Thisis\\ECG_Imag...     F\n",
       "2      C:\\Users\\ASUS\\OneDrive\\Desktop\\Thisis\\ECG_Imag...     F\n",
       "3      C:\\Users\\ASUS\\OneDrive\\Desktop\\Thisis\\ECG_Imag...     F\n",
       "4      C:\\Users\\ASUS\\OneDrive\\Desktop\\Thisis\\ECG_Imag...     F\n",
       "...                                                  ...   ...\n",
       "24794  C:\\Users\\ASUS\\OneDrive\\Desktop\\Thisis\\ECG_Imag...     V\n",
       "24795  C:\\Users\\ASUS\\OneDrive\\Desktop\\Thisis\\ECG_Imag...     V\n",
       "24796  C:\\Users\\ASUS\\OneDrive\\Desktop\\Thisis\\ECG_Imag...     V\n",
       "24797  C:\\Users\\ASUS\\OneDrive\\Desktop\\Thisis\\ECG_Imag...     V\n",
       "24798  C:\\Users\\ASUS\\OneDrive\\Desktop\\Thisis\\ECG_Imag...     V\n",
       "\n",
       "[24799 rows x 2 columns]"
      ]
     },
     "execution_count": 18,
     "metadata": {},
     "output_type": "execute_result"
    }
   ],
   "source": [
    "%%time\n",
    "dir = Path('C:\\\\Users\\\\ASUS\\\\OneDrive\\\\Desktop\\\\Thisis\\\\ECG_Image_data\\\\test')\n",
    "\n",
    "filepaths = list(dir.glob(r'**/*.png'))\n",
    "labels = list(map(lambda x: os.path.split(os.path.split(x)[0])[1], filepaths))\n",
    "\n",
    "filepaths = pd.Series(filepaths, name='Filepath').astype(str)\n",
    "labels = pd.Series(labels, name='Label')\n",
    "\n",
    "dataframe_test = pd.concat([filepaths , labels] , axis=1)\n",
    "dataframe_test"
   ]
  },
  {
   "cell_type": "code",
   "execution_count": 19,
   "id": "1a4efe24",
   "metadata": {},
   "outputs": [
    {
     "data": {
      "text/plain": [
       "N    18926\n",
       "M     2101\n",
       "Q     1608\n",
       "V     1447\n",
       "S      556\n",
       "F      161\n",
       "Name: Label, dtype: int64"
      ]
     },
     "execution_count": 19,
     "metadata": {},
     "output_type": "execute_result"
    }
   ],
   "source": [
    "dataframe_test['Label'].value_counts()"
   ]
  },
  {
   "cell_type": "code",
   "execution_count": 20,
   "id": "e57ab856",
   "metadata": {},
   "outputs": [
    {
     "data": {
      "text/plain": [
       "M    160\n",
       "F    160\n",
       "Q    160\n",
       "N    160\n",
       "V    160\n",
       "S    160\n",
       "Name: Label, dtype: int64"
      ]
     },
     "execution_count": 20,
     "metadata": {},
     "output_type": "execute_result"
    }
   ],
   "source": [
    "samples = []\n",
    "for category in ['N','M','Q','V','S','F']:\n",
    "    category_slice = dataframe_test.query(\"Label == @category\")\n",
    "    samples.append(category_slice.sample(160, random_state=1))\n",
    "\n",
    "dataframe_test = pd.concat(samples, axis=0).sample(frac=1.0, random_state=1).reset_index(drop=True)\n",
    "dataframe_test['Label'].value_counts()"
   ]
  },
  {
   "cell_type": "markdown",
   "id": "519e53c7",
   "metadata": {},
   "source": [
    "# Image generators"
   ]
  },
  {
   "cell_type": "code",
   "execution_count": 21,
   "id": "46af6418",
   "metadata": {},
   "outputs": [],
   "source": [
    "def gray_torgb(image):\n",
    "    image = cv2.cvtColor(image, cv2.COLOR_BGR2GRAY)\n",
    "    image = cv2.merge((image,image,image))\n",
    "    image = tf.keras.applications.resnet50.preprocess_input(image)\n",
    "    return image"
   ]
  },
  {
   "cell_type": "code",
   "execution_count": 22,
   "id": "9dbe4d61",
   "metadata": {},
   "outputs": [],
   "source": [
    "train_generator = tf.keras.preprocessing.image.ImageDataGenerator(\n",
    "    preprocessing_function=gray_torgb,\n",
    "    rescale=1./255,\n",
    "    validation_split=0.2\n",
    "  \n",
    ")\n",
    "\n",
    "test_generator = tf.keras.preprocessing.image.ImageDataGenerator(\n",
    "    preprocessing_function=gray_torgb,\n",
    "    rescale=1./255\n",
    ")"
   ]
  },
  {
   "cell_type": "code",
   "execution_count": 23,
   "id": "d5584ead",
   "metadata": {},
   "outputs": [
    {
     "name": "stdout",
     "output_type": "stream",
     "text": [
      "Found 3072 validated image filenames belonging to 6 classes.\n",
      "Found 768 validated image filenames belonging to 6 classes.\n",
      "Found 960 validated image filenames belonging to 6 classes.\n"
     ]
    }
   ],
   "source": [
    "size=224\n",
    "color_mode='rgb'\n",
    "batch_size=32\n",
    "\n",
    "train_images = train_generator.flow_from_dataframe(\n",
    "    dataframe=dataframe_train,\n",
    "    x_col='Filepath',\n",
    "    y_col='Label',\n",
    "    target_size=(size, size),\n",
    "    color_mode=color_mode,\n",
    "    class_mode='categorical',\n",
    "    batch_size=batch_size,\n",
    "    shuffle=True,\n",
    "    seed=42,\n",
    "    subset='training'\n",
    ")\n",
    "\n",
    "val_images = train_generator.flow_from_dataframe(\n",
    "    dataframe=dataframe_train,\n",
    "    x_col='Filepath',\n",
    "    y_col='Label',\n",
    "    target_size=(size, size),\n",
    "    color_mode=color_mode,\n",
    "    class_mode='categorical',\n",
    "    batch_size=batch_size,\n",
    "    shuffle=True,\n",
    "    seed=42,\n",
    "    subset='validation'\n",
    ")\n",
    "\n",
    "test_images = test_generator.flow_from_dataframe(\n",
    "    dataframe=dataframe_test,\n",
    "    x_col='Filepath',\n",
    "    y_col='Label',\n",
    "    target_size=(size, size),\n",
    "    color_mode=color_mode,\n",
    "    class_mode='categorical',\n",
    "    batch_size=batch_size,\n",
    "    shuffle=False\n",
    ")"
   ]
  },
  {
   "cell_type": "code",
   "execution_count": 24,
   "id": "02a435ec",
   "metadata": {},
   "outputs": [
    {
     "data": {
      "text/plain": [
       "{'F': 0, 'M': 1, 'N': 2, 'Q': 3, 'S': 4, 'V': 5}"
      ]
     },
     "execution_count": 24,
     "metadata": {},
     "output_type": "execute_result"
    }
   ],
   "source": [
    "test_images.class_indices"
   ]
  },
  {
   "cell_type": "code",
   "execution_count": 25,
   "id": "04f54d8e",
   "metadata": {},
   "outputs": [
    {
     "data": {
      "text/plain": [
       "<matplotlib.image.AxesImage at 0x2babf472850>"
      ]
     },
     "execution_count": 25,
     "metadata": {},
     "output_type": "execute_result"
    },
    {
     "data": {
      "image/png": "[encoded data removed]",
      "text/plain": [
       "<Figure size 640x480 with 1 Axes>"
      ]
     },
     "metadata": {},
     "output_type": "display_data"
    }
   ],
   "source": [
    "plt.imshow(test_images[0][0][3])"
   ]
  },
  {
   "cell_type": "markdown",
   "id": "9bec51f8",
   "metadata": {},
   "source": [
    "# Modeling"
   ]
  },
  {
   "cell_type": "markdown",
   "id": "3429a487",
   "metadata": {},
   "source": [
    "# CNN"
   ]
  },
  {
   "cell_type": "code",
   "execution_count": 28,
   "id": "4ab25c57",
   "metadata": {},
   "outputs": [],
   "source": [
    "from tensorflow.keras.layers import *\n",
    "from tensorflow.keras.models import *"
   ]
  },
  {
   "cell_type": "code",
   "execution_count": 36,
   "id": "1cc2d3bf",
   "metadata": {},
   "outputs": [],
   "source": [
    "num_classes = 6\n",
    "\n",
    "model = tf.keras.Sequential([\n",
    "    tf.keras.layers.Conv2D(32, (3, 3), activation='relu', input_shape=(size, size, 3)),\n",
    "    tf.keras.layers.MaxPooling2D((2, 2)),\n",
    "    tf.keras.layers.Flatten(),\n",
    "    tf.keras.layers.Dense(64, activation='relu'),\n",
    "    tf.keras.layers.Dense(num_classes, activation='softmax')\n",
    "])"
   ]
  },
  {
   "cell_type": "code",
   "execution_count": 41,
   "id": "883a003a",
   "metadata": {},
   "outputs": [
    {
     "name": "stdout",
     "output_type": "stream",
     "text": [
      "Model: \"sequential_1\"\n",
      "_________________________________________________________________\n",
      " Layer (type)                Output Shape              Param #   \n",
      "=================================================================\n",
      " conv2d_7 (Conv2D)           (None, 222, 222, 32)      896       \n",
      "                                                                 \n",
      " max_pooling2d_4 (MaxPooling  (None, 111, 111, 32)     0         \n",
      " 2D)                                                             \n",
      "                                                                 \n",
      " flatten_2 (Flatten)         (None, 394272)            0         \n",
      "                                                                 \n",
      " dense_3 (Dense)             (None, 64)                25233472  \n",
      "                                                                 \n",
      " dense_4 (Dense)             (None, 6)                 390       \n",
      "                                                                 \n",
      "=================================================================\n",
      "Total params: 25,234,758\n",
      "Trainable params: 25,234,758\n",
      "Non-trainable params: 0\n",
      "_________________________________________________________________\n"
     ]
    }
   ],
   "source": [
    "model.summary()"
   ]
  },
  {
   "cell_type": "code",
   "execution_count": 37,
   "id": "3152dbd8",
   "metadata": {},
   "outputs": [],
   "source": [
    "model.compile(optimizer='adam', loss='categorical_crossentropy', metrics=['accuracy'])"
   ]
  },
  {
   "cell_type": "code",
   "execution_count": 39,
   "id": "2ebe6d1b",
   "metadata": {},
   "outputs": [
    {
     "name": "stdout",
     "output_type": "stream",
     "text": [
      "Epoch 1/10\n",
      "96/96 [==============================] - 87s 902ms/step - loss: 2.4580 - accuracy: 0.4329 - val_loss: 1.0102 - val_accuracy: 0.5078\n",
      "Epoch 2/10\n",
      "96/96 [==============================] - 78s 814ms/step - loss: 0.7506 - accuracy: 0.7080 - val_loss: 0.7486 - val_accuracy: 0.7826\n",
      "Epoch 3/10\n",
      "96/96 [==============================] - 80s 827ms/step - loss: 0.5025 - accuracy: 0.7926 - val_loss: 0.5840 - val_accuracy: 0.7266\n",
      "Epoch 4/10\n",
      "96/96 [==============================] - 78s 815ms/step - loss: 0.3712 - accuracy: 0.8141 - val_loss: 0.5306 - val_accuracy: 0.7956\n",
      "Epoch 5/10\n",
      "96/96 [==============================] - 79s 818ms/step - loss: 0.2563 - accuracy: 0.9118 - val_loss: 0.4406 - val_accuracy: 0.8854\n",
      "Epoch 6/10\n",
      "96/96 [==============================] - 77s 803ms/step - loss: 0.1456 - accuracy: 0.9570 - val_loss: 0.4024 - val_accuracy: 0.8932\n",
      "Epoch 7/10\n",
      "96/96 [==============================] - 77s 807ms/step - loss: 0.0885 - accuracy: 0.9697 - val_loss: 0.3863 - val_accuracy: 0.8945\n",
      "Epoch 8/10\n",
      "96/96 [==============================] - 78s 815ms/step - loss: 0.0600 - accuracy: 0.9811 - val_loss: 0.4139 - val_accuracy: 0.9062\n",
      "Epoch 9/10\n",
      "96/96 [==============================] - 77s 806ms/step - loss: 0.0382 - accuracy: 0.9954 - val_loss: 0.4216 - val_accuracy: 0.9258\n",
      "Epoch 10/10\n",
      "96/96 [==============================] - 78s 817ms/step - loss: 0.0252 - accuracy: 0.9980 - val_loss: 0.3974 - val_accuracy: 0.9193\n"
     ]
    }
   ],
   "source": [
    "history = model.fit(train_images, validation_data=val_images, epochs=10)"
   ]
  },
  {
   "cell_type": "code",
   "execution_count": 40,
   "id": "bf763d40",
   "metadata": {},
   "outputs": [
    {
     "name": "stdout",
     "output_type": "stream",
     "text": [
      "30/30 [==============================] - 9s 305ms/step - loss: 0.5143 - accuracy: 0.9240\n"
     ]
    }
   ],
   "source": [
    "test_loss, test_accuracy = model.evaluate(test_images)"
   ]
  },
  {
   "cell_type": "code",
   "execution_count": 55,
   "id": "4069b523",
   "metadata": {},
   "outputs": [],
   "source": [
    "import keras\n",
    "checkpoint = keras.callbacks.ModelCheckpoint(\n",
    "    filepath='best_model.h5',\n",
    "    save_weights_only=False,\n",
    "    monitor='val_accuracy',\n",
    "    mode='max',\n",
    "    save_best_only=True,\n",
    "    verbose=1)"
   ]
  },
  {
   "cell_type": "code",
   "execution_count": 56,
   "id": "aaeabe1c",
   "metadata": {},
   "outputs": [],
   "source": [
    "model.compile(loss='categorical_crossentropy',optimizer='adam',\n",
    "            metrics=['accuracy',\n",
    "                     'Precision',\n",
    "                     'Recall',\n",
    "                     tf.keras.metrics.AUC(\n",
    "                                    num_thresholds=200,\n",
    "                                    curve=\"ROC\",\n",
    "                                    summation_method=\"interpolation\",\n",
    "                                    multi_label=False\n",
    "                                    )])"
   ]
  },
  {
   "cell_type": "code",
   "execution_count": 58,
   "id": "45e7cefa",
   "metadata": {},
   "outputs": [
    {
     "name": "stdout",
     "output_type": "stream",
     "text": [
      "Epoch 1/10\n",
      "96/96 [==============================] - ETA: 0s - loss: 0.0451 - accuracy: 0.9886 - precision: 0.9896 - recall: 0.9880 - auc_4: 0.9994\n",
      "Epoch 1: val_accuracy improved from -inf to 0.93359, saving model to best_model.h5\n",
      "96/96 [==============================] - 84s 871ms/step - loss: 0.0451 - accuracy: 0.9886 - precision: 0.9896 - recall: 0.9880 - auc_4: 0.9994 - val_loss: 0.4455 - val_accuracy: 0.9336 - val_precision: 0.9360 - val_recall: 0.9336 - val_auc_4: 0.9848\n",
      "Epoch 2/10\n",
      "96/96 [==============================] - ETA: 0s - loss: 0.0117 - accuracy: 0.9987 - precision: 0.9990 - recall: 0.9987 - auc_4: 1.0000\n",
      "Epoch 2: val_accuracy did not improve from 0.93359\n",
      "96/96 [==============================] - 77s 797ms/step - loss: 0.0117 - accuracy: 0.9987 - precision: 0.9990 - recall: 0.9987 - auc_4: 1.0000 - val_loss: 0.4570 - val_accuracy: 0.9323 - val_precision: 0.9335 - val_recall: 0.9323 - val_auc_4: 0.9851\n",
      "Epoch 3/10\n",
      "96/96 [==============================] - ETA: 0s - loss: 0.0122 - accuracy: 0.9980 - precision: 0.9984 - recall: 0.9977 - auc_4: 1.0000\n",
      "Epoch 3: val_accuracy did not improve from 0.93359\n",
      "96/96 [==============================] - 77s 798ms/step - loss: 0.0122 - accuracy: 0.9980 - precision: 0.9984 - recall: 0.9977 - auc_4: 1.0000 - val_loss: 0.6195 - val_accuracy: 0.9245 - val_precision: 0.9256 - val_recall: 0.9232 - val_auc_4: 0.9768\n",
      "Epoch 4/10\n",
      "96/96 [==============================] - ETA: 0s - loss: 0.0164 - accuracy: 0.9971 - precision: 0.9984 - recall: 0.9971 - auc_4: 1.0000\n",
      "Epoch 4: val_accuracy did not improve from 0.93359\n",
      "96/96 [==============================] - 77s 801ms/step - loss: 0.0164 - accuracy: 0.9971 - precision: 0.9984 - recall: 0.9971 - auc_4: 1.0000 - val_loss: 0.6376 - val_accuracy: 0.9076 - val_precision: 0.9076 - val_recall: 0.9076 - val_auc_4: 0.9784\n",
      "Epoch 5/10\n",
      "96/96 [==============================] - ETA: 0s - loss: 0.0237 - accuracy: 0.9945 - precision: 0.9951 - recall: 0.9941 - auc_4: 0.9995\n",
      "Epoch 5: val_accuracy improved from 0.93359 to 0.94661, saving model to best_model.h5\n",
      "96/96 [==============================] - 78s 817ms/step - loss: 0.0237 - accuracy: 0.9945 - precision: 0.9951 - recall: 0.9941 - auc_4: 0.9995 - val_loss: 0.4123 - val_accuracy: 0.9466 - val_precision: 0.9477 - val_recall: 0.9440 - val_auc_4: 0.9886\n",
      "Epoch 6/10\n",
      "96/96 [==============================] - ETA: 0s - loss: 0.0122 - accuracy: 0.9967 - precision: 0.9971 - recall: 0.9967 - auc_4: 1.0000\n",
      "Epoch 6: val_accuracy did not improve from 0.94661\n",
      "96/96 [==============================] - 78s 811ms/step - loss: 0.0122 - accuracy: 0.9967 - precision: 0.9971 - recall: 0.9967 - auc_4: 1.0000 - val_loss: 0.5576 - val_accuracy: 0.9362 - val_precision: 0.9411 - val_recall: 0.9362 - val_auc_4: 0.9868\n",
      "Epoch 7/10\n",
      "96/96 [==============================] - ETA: 0s - loss: 0.0387 - accuracy: 0.9909 - precision: 0.9915 - recall: 0.9909 - auc_4: 0.9987\n",
      "Epoch 7: val_accuracy did not improve from 0.94661\n",
      "96/96 [==============================] - 78s 816ms/step - loss: 0.0387 - accuracy: 0.9909 - precision: 0.9915 - recall: 0.9909 - auc_4: 0.9987 - val_loss: 0.7243 - val_accuracy: 0.9193 - val_precision: 0.9193 - val_recall: 0.9193 - val_auc_4: 0.9777\n",
      "Epoch 8/10\n",
      "96/96 [==============================] - ETA: 0s - loss: 0.0092 - accuracy: 0.9977 - precision: 0.9980 - recall: 0.9977 - auc_4: 1.0000\n",
      "Epoch 8: val_accuracy did not improve from 0.94661\n",
      "96/96 [==============================] - 77s 806ms/step - loss: 0.0092 - accuracy: 0.9977 - precision: 0.9980 - recall: 0.9977 - auc_4: 1.0000 - val_loss: 0.4913 - val_accuracy: 0.9453 - val_precision: 0.9490 - val_recall: 0.9453 - val_auc_4: 0.9847\n",
      "Epoch 9/10\n",
      "96/96 [==============================] - ETA: 0s - loss: 0.0036 - accuracy: 0.9993 - precision: 0.9997 - recall: 0.9993 - auc_4: 1.0000\n",
      "Epoch 9: val_accuracy did not improve from 0.94661\n",
      "96/96 [==============================] - 77s 807ms/step - loss: 0.0036 - accuracy: 0.9993 - precision: 0.9997 - recall: 0.9993 - auc_4: 1.0000 - val_loss: 0.5246 - val_accuracy: 0.9414 - val_precision: 0.9426 - val_recall: 0.9401 - val_auc_4: 0.9851\n",
      "Epoch 10/10\n",
      "96/96 [==============================] - ETA: 0s - loss: 0.0018 - accuracy: 0.9997 - precision: 1.0000 - recall: 0.9997 - auc_4: 1.0000\n",
      "Epoch 10: val_accuracy did not improve from 0.94661\n",
      "96/96 [==============================] - 78s 817ms/step - loss: 0.0018 - accuracy: 0.9997 - precision: 1.0000 - recall: 0.9997 - auc_4: 1.0000 - val_loss: 0.5516 - val_accuracy: 0.9388 - val_precision: 0.9400 - val_recall: 0.9388 - val_auc_4: 0.9837\n",
      "Wall time: 13min 2s\n"
     ]
    }
   ],
   "source": [
    "%%time\n",
    "result=model.fit(\n",
    "    train_images,\n",
    "    steps_per_epoch=3072//32,\n",
    "    validation_data=val_images,\n",
    "    validation_steps=768//32,\n",
    "    epochs=10,\n",
    "    callbacks=[checkpoint]\n",
    ")"
   ]
  },
  {
   "cell_type": "code",
   "execution_count": 60,
   "id": "08ceec88",
   "metadata": {},
   "outputs": [
    {
     "name": "stdout",
     "output_type": "stream",
     "text": [
      "     Test Loss: 0.6239\n",
      " Test Accuracy: 93.4375%\n",
      "Test Precision: 93.4375%\n",
      "   Test Recall: 93.4375%\n",
      "      Test AUC: 0.9793\n"
     ]
    }
   ],
   "source": [
    "from keras.models import load_model\n",
    "best_model=load_model('best_model.h5')\n",
    "results = best_model.evaluate(test_images, verbose=0)\n",
    "\n",
    "print(\"     Test Loss: {:.4f}\".format(results[0]))\n",
    "print(\" Test Accuracy: {:.4f}%\".format(results[1] * 100))\n",
    "print(\"Test Precision: {:.4f}%\".format(results[2] * 100))\n",
    "print(\"   Test Recall: {:.4f}%\".format(results[3] * 100))\n",
    "print(\"      Test AUC: {:.4f}\".format(results[4] ))"
   ]
  },
  {
   "cell_type": "code",
   "execution_count": 61,
   "id": "47211c3b",
   "metadata": {},
   "outputs": [
    {
     "data": {
      "image/png": "[encoded data removed]",
      "text/plain": [
       "<Figure size 640x480 with 1 Axes>"
      ]
     },
     "metadata": {},
     "output_type": "display_data"
    }
   ],
   "source": [
    "import matplotlib.pyplot as plt\n",
    "\n",
    "plt.plot(result.history['loss'])\n",
    "plt.plot(result.history['val_loss'])\n",
    "plt.legend(['Training', 'Validation'])\n",
    "plt.title('Training and Validation losses')\n",
    "plt.xlabel('epoch')\n",
    "plt.ylabel('loss')\n",
    "plt.savefig( 'loss.jpg', dpi=500, bbox_inches = 'tight')"
   ]
  },
  {
   "cell_type": "code",
   "execution_count": 62,
   "id": "368c413b",
   "metadata": {},
   "outputs": [
    {
     "data": {
      "image/png": "[encoded data removed]",
      "text/plain": [
       "<Figure size 640x480 with 1 Axes>"
      ]
     },
     "metadata": {},
     "output_type": "display_data"
    }
   ],
   "source": [
    "plt.plot(result.history['accuracy'])\n",
    "plt.plot(result.history['val_accuracy'])\n",
    "plt.legend(['Training', 'Validation'])\n",
    "plt.title('Training and Validation accuracy')\n",
    "plt.xlabel('epoch')\n",
    "plt.ylabel('accuracy')\n",
    "plt.savefig( 'accuracy.jpg', dpi=500, bbox_inches = 'tight')"
   ]
  },
  {
   "cell_type": "code",
   "execution_count": 63,
   "id": "2eb92ad9",
   "metadata": {},
   "outputs": [
    {
     "name": "stdout",
     "output_type": "stream",
     "text": [
      "30/30 [==============================] - 5s 164ms/step\n"
     ]
    },
    {
     "data": {
      "text/plain": [
       "array([[0.00000000e+00, 9.99999642e-01, 0.00000000e+00, 0.00000000e+00,\n",
       "        3.59567480e-07, 0.00000000e+00],\n",
       "       [9.97808874e-01, 1.69980518e-15, 1.75203962e-09, 2.19112798e-03,\n",
       "        4.65385739e-08, 2.51600337e-16],\n",
       "       [3.36994344e-05, 8.89984201e-17, 4.07218747e-03, 9.95891809e-01,\n",
       "        2.26417478e-06, 5.40518630e-10],\n",
       "       ...,\n",
       "       [9.95200992e-01, 1.04393396e-13, 2.00064481e-08, 4.79858182e-03,\n",
       "        3.67166734e-07, 2.03511541e-14],\n",
       "       [0.00000000e+00, 9.99989867e-01, 2.59981617e-32, 0.00000000e+00,\n",
       "        1.01257028e-05, 0.00000000e+00],\n",
       "       [5.57868747e-13, 1.24566052e-15, 9.96637702e-01, 3.03325173e-03,\n",
       "        3.49524555e-07, 3.28655093e-04]], dtype=float32)"
      ]
     },
     "execution_count": 63,
     "metadata": {},
     "output_type": "execute_result"
    }
   ],
   "source": [
    "y_pred = best_model.predict(test_images)\n",
    "y_pred"
   ]
  },
  {
   "cell_type": "code",
   "execution_count": 1,
   "id": "83bf2435",
   "metadata": {},
   "outputs": [],
   "source": [
    "import matplotlib.pyplot as plt\n",
    "import cv2"
   ]
  },
  {
   "cell_type": "code",
   "execution_count": 2,
   "id": "b4b65f6b",
   "metadata": {},
   "outputs": [],
   "source": [
    "image = cv2.imread('C:\\\\Users\\\\ASUS\\\\OneDrive\\\\Desktop\\\\Thisis\\\\ECG_Image_data\\\\train')"
   ]
  },
  {
   "cell_type": "code",
   "execution_count": 4,
   "id": "eec05cef",
   "metadata": {},
   "outputs": [
    {
     "name": "stdout",
     "output_type": "stream",
     "text": [
      "Error loading the image. Please check the file path and format.\n"
     ]
    }
   ],
   "source": [
    "if image is not None:\n",
    "    # Preprocess the image if needed\n",
    "\n",
    "    # Display the image\n",
    "    plt.imshow(cv2.cvtColor(image, cv2.COLOR_BGR2RGB))\n",
    "    plt.axis('off')  # Optional: Hide the axis\n",
    "    plt.show()\n",
    "else:\n",
    "    print(\"Error loading the image. Please check the file path and format.\")"
   ]
  },
  {
   "cell_type": "code",
   "execution_count": null,
   "id": "b91b7c88",
   "metadata": {},
   "outputs": [],
   "source": []
  }
 ],
 "metadata": {
  "kernelspec": {
   "display_name": "Python 3 (ipykernel)",
   "language": "python",
   "name": "python3"
  },
  "language_info": {
   "codemirror_mode": {
    "name": "ipython",
    "version": 3
   },
   "file_extension": ".py",
   "mimetype": "text/x-python",
   "name": "python",
   "nbconvert_exporter": "python",
   "pygments_lexer": "ipython3",
   "version": "3.9.13"
  }
 },
 "nbformat": 4,
 "nbformat_minor": 5
}
